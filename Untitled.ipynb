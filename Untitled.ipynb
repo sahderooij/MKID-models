{
 "cells": [
  {
   "cell_type": "code",
   "execution_count": 1,
   "id": "judicial-bobby",
   "metadata": {},
   "outputs": [],
   "source": [
    "import SC\n",
    "import kidata"
   ]
  },
  {
   "cell_type": "code",
   "execution_count": 3,
   "id": "funky-clearing",
   "metadata": {},
   "outputs": [
    {
     "data": {
      "text/plain": [
       "{'name': 'Al',\n",
       " 'kbTc': 108.14753243992197,\n",
       " 'kbTD': 37313.05302508862,\n",
       " 'N0': 17200.0,\n",
       " 't0': 0.44,\n",
       " 'tpb': 0.00028,\n",
       " 'tesc': 0.005602237110163182,\n",
       " 'V': 26.988,\n",
       " 'lbd0': 0.092,\n",
       " 'd': 0.05}"
      ]
     },
     "execution_count": 3,
     "metadata": {},
     "output_type": "execute_result"
    }
   ],
   "source": [
    "SC.init_SC('LT165',2).__dict__"
   ]
  },
  {
   "cell_type": "code",
   "execution_count": null,
   "id": "superior-strike",
   "metadata": {},
   "outputs": [],
   "source": []
  }
 ],
 "metadata": {
  "kernelspec": {
   "display_name": "Python 3",
   "language": "python",
   "name": "python3"
  },
  "language_info": {
   "codemirror_mode": {
    "name": "ipython",
    "version": 3
   },
   "file_extension": ".py",
   "mimetype": "text/x-python",
   "name": "python",
   "nbconvert_exporter": "python",
   "pygments_lexer": "ipython3",
   "version": "3.8.5"
  }
 },
 "nbformat": 4,
 "nbformat_minor": 5
}
