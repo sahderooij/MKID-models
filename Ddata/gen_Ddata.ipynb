{
 "cells": [
  {
   "cell_type": "code",
   "execution_count": 1,
   "metadata": {},
   "outputs": [],
   "source": [
    "import sys\n",
    "sys.path.insert(1,'../')\n",
    "\n",
    "import numpy as np\n",
    "from scipy import integrate\n",
    "import scipy.constants as const\n",
    "from scipy.optimize import minimize_scalar as minisc\n",
    "from scipy import interpolate\n",
    "import matplotlib.pyplot as plt\n",
    "from tqdm.notebook import tnrange\n",
    "import importlib\n",
    "\n",
    "import SC\n",
    "import kidcalc"
   ]
  },
  {
   "cell_type": "code",
   "execution_count": null,
   "metadata": {},
   "outputs": [
    {
     "data": {
      "application/vnd.jupyter.widget-view+json": {
       "model_id": "c2a277825af5474da574e72d68da3c1f",
       "version_major": 2,
       "version_minor": 0
      },
      "text/plain": [
       "  0%|          | 0/1000 [00:00<?, ?it/s]"
      ]
     },
     "metadata": {},
     "output_type": "display_data"
    }
   ],
   "source": [
    "importlib.reload(kidcalc)\n",
    "importlib.reload(SC)\n",
    "s = SC.bTa()\n",
    "points = 1000\n",
    "\n",
    "for Tc in [1.0]:    \n",
    "    s.kbTc = Tc*const.Boltzmann/const.e*1e6\n",
    "    Ddata = np.zeros((3,points))\n",
    "    kbTarr = np.logspace(np.log10(0.01),np.log10(.99),points)*s.kbTc\n",
    "    for i in tnrange(len(kbTarr)):\n",
    "        Ddata[0,i] = kbTarr[i]\n",
    "        Ddata[1,i] = kidcalc.D(kbTarr[i],s)\n",
    "        Ddata[2,i] = kidcalc.nqp(kbTarr[i],Ddata[1,i],s)\n",
    "    Tcstr = str(np.around(\n",
    "        s.kbTc/(const.Boltzmann/const.e*1e6),3\n",
    "        )).replace('.','_')\n",
    "    np.save(f'Ddata_{s.name}_{Tcstr}',Ddata)"
   ]
  },
  {
   "cell_type": "code",
   "execution_count": 15,
   "metadata": {},
   "outputs": [
    {
     "data": {
      "text/plain": [
       "[<matplotlib.lines.Line2D at 0x1e2e869a340>]"
      ]
     },
     "execution_count": 15,
     "metadata": {},
     "output_type": "execute_result"
    },
    {
     "data": {
      "image/png": "[encoded data removed]",
      "text/plain": [
       "<Figure size 432x288 with 1 Axes>"
      ]
     },
     "metadata": {
      "needs_background": "light"
     },
     "output_type": "display_data"
    }
   ],
   "source": [
    "plt.plot(Ddata[0,:],Ddata[1,:],'.')"
   ]
  },
  {
   "cell_type": "code",
   "execution_count": 16,
   "metadata": {},
   "outputs": [
    {
     "data": {
      "image/png": "[encoded data removed]",
      "text/plain": [
       "<Figure size 432x288 with 1 Axes>"
      ]
     },
     "metadata": {
      "needs_background": "light"
     },
     "output_type": "display_data"
    }
   ],
   "source": [
    "plt.plot(Ddata[0,:],Ddata[2,:], '.')\n",
    "plt.yscale('log')"
   ]
  }
 ],
 "metadata": {
  "kernelspec": {
   "display_name": "Python 3",
   "language": "python",
   "name": "python3"
  },
  "language_info": {
   "codemirror_mode": {
    "name": "ipython",
    "version": 3
   },
   "file_extension": ".py",
   "mimetype": "text/x-python",
   "name": "python",
   "nbconvert_exporter": "python",
   "pygments_lexer": "ipython3",
   "version": "3.8.5"
  },
  "widgets": {
   "application/vnd.jupyter.widget-state+json": {
    "state": {},
    "version_major": 2,
    "version_minor": 0
   }
  }
 },
 "nbformat": 4,
 "nbformat_minor": 4
}
